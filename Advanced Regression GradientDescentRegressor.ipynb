{
  "metadata": {
    "kernelspec": {
      "name": "python"
    },
    "language_info": {
      "name": "python",
      "version": "3.5.1"
    }
  },
  "nbformat": 4,
  "nbformat_minor": 0,
  "cells": [
    {
      "cell_type": "markdown",
      "source": null,
      "metadata": {}
    },
    {
      "cell_type": "code",
      "source": "# This Python 3 environment comes with many helpful analytics libraries installed\n# It is defined by the kaggle/python docker image: https://github.com/kaggle/docker-python\n# For example, here's several helpful packages to load in \n\nimport numpy as np # linear algebra\nimport pandas as pd # data processing, CSV file I/O (e.g. pd.read_csv)\nfrom sklearn import preprocessing\nfrom sklearn import linear_model\nfrom sklearn.model_selection import train_test_split\nfrom sklearn.metrics import mean_squared_error\nfrom sklearn.ensemble import RandomForestClassifier\nfrom sklearn.ensemble import GradientBoostingRegressor\nimport matplotlib.pyplot as plt\nimport seaborn as sns\nfrom sklearn.model_selection import GridSearchCV\n# Input data files are available in the \"../input/\" directory.\n# For example, running this (by clicking run or pressing Shift+Enter) will list the files in the input directory\n\n#from subprocess import check_output\n#print(check_output([\"ls\", \"../input\"]).decode(\"utf8\"))\n\n# Any results you write to the current directory are saved as output.",
      "execution_count": null,
      "outputs": [],
      "metadata": {}
    },
    {
      "cell_type": "code",
      "source": "def miss_values(df):\n    for column in df:\n        # Test whether column has null value\n        if len(df[column].apply(pd.isnull).value_counts()) > 1:\n            print(column+\" has missing value\")\n            #if column is numeric, fill null with mean\n            if df[column].dtype in ('int64','float64'):\n                df[column] = df[column].fillna(df[column].mean())\n            else:\n                df[column] = df[column].fillna(\"unknown\")",
      "execution_count": null,
      "outputs": [],
      "metadata": {}
    },
    {
      "cell_type": "code",
      "source": "def factor_encoding(df):\n    for column in df:\n        if df[column].dtype == 'object':\n            df = df.merge(pd.get_dummies(data=df[column],prefix=column),right_index=True,left_index=True)\n            del df[column]\n    return df",
      "execution_count": null,
      "outputs": [],
      "metadata": {}
    },
    {
      "cell_type": "code",
      "source": "train = pd.read_csv(\"../input/train.csv\")\ntest = pd.read_csv(\"../input/test.csv\")\ntrain['source'] = 1.0\ntest['source'] = 0.0\nalls = pd.concat([train,test],ignore_index=True)\nmiss_values(alls)\nalls = factor_encoding(alls)",
      "execution_count": null,
      "outputs": [],
      "metadata": {}
    },
    {
      "cell_type": "code",
      "source": "train = alls[alls['source'] == 1.0]\ntrain.drop(['source'],inplace=True,axis=1)\ntest = alls[alls['source'] == 0.0]\ntest.drop(['source'],inplace=True,axis=1)",
      "execution_count": null,
      "outputs": [],
      "metadata": {}
    },
    {
      "cell_type": "code",
      "source": "x = train.drop(['SalePrice'],axis=1)\nY = train['SalePrice']\nx_test = test.drop(['SalePrice'],axis=1)\nx_train, x_vali, Y_train, Y_vali = train_test_split(x, Y, test_size=0.25, random_state=42)",
      "execution_count": null,
      "outputs": [],
      "metadata": {}
    },
    {
      "cell_type": "code",
      "source": "para_grid = {\n      'loss' : ['ls','lad','huber'],\n      'max_depth':[i for i in range(1,10)],\n      'max_features' : ['auto','sqrt','log2']\n}",
      "execution_count": null,
      "outputs": [],
      "metadata": {}
    },
    {
      "cell_type": "code",
      "source": "gbr = GradientBoostingRegressor()\nclf = GridSearchCV(estimator=gbr, param_grid=para_grid,scoring='neg_mean_squared_error')\nclf.fit(x, Y)",
      "execution_count": null,
      "outputs": [],
      "metadata": {}
    },
    {
      "cell_type": "code",
      "source": "clf.best_params_ ",
      "execution_count": null,
      "outputs": [],
      "metadata": {}
    },
    {
      "cell_type": "code",
      "source": "gridSearch = pd.DataFrame.from_dict(clf.cv_results_,orient='columns')",
      "execution_count": null,
      "outputs": [],
      "metadata": {}
    },
    {
      "cell_type": "code",
      "source": "gridSearch[0:10]",
      "execution_count": null,
      "outputs": [],
      "metadata": {}
    },
    {
      "cell_type": "code",
      "source": "auto_only = gridSearch[gridSearch['param_max_features']=='auto']\nline_ls_train, = plt.plot(auto_only[auto_only['param_loss']=='ls']['param_max_depth'],auto_only[auto_only['param_loss']=='ls']['mean_train_score'],'g--',label='ls')\nline_lad_train, = plt.plot(auto_only[auto_only['param_loss']=='lad']['param_max_depth'],auto_only[auto_only['param_loss']=='lad']['mean_train_score'],'r--',label='lad')\nline_huber_train, = plt.plot(auto_only[auto_only['param_loss']=='huber']['param_max_depth'],auto_only[auto_only['param_loss']=='huber']['mean_train_score'],'b--',label='huber')\nline_ls_test, = plt.plot(auto_only[auto_only['param_loss']=='ls']['param_max_depth'],auto_only[auto_only['param_loss']=='ls']['mean_test_score'],'g',label='ls')\nline_lad_test, = plt.plot(auto_only[auto_only['param_loss']=='lad']['param_max_depth'],auto_only[auto_only['param_loss']=='lad']['mean_test_score'],'r',label='lad')\nline_huber_test, = plt.plot(auto_only[auto_only['param_loss']=='huber']['param_max_depth'],auto_only[auto_only['param_loss']=='huber']['mean_test_score'],'b',label='huber')\nplt.legend(handles=[line_ls_train,line_ls_test,line_lad_train,line_lad_test,line_huber_train,line_huber_test])\nplt.ylabel('Square-Root MSE')\n#plt.title('Tuning the hiper paremeter Alpha')\nplt.show()",
      "execution_count": null,
      "outputs": [],
      "metadata": {}
    },
    {
      "cell_type": "code",
      "source": "ls_only = gridSearch[gridSearch['param_loss']=='ls']\nline_auto_train, = plt.plot(ls_only[ls_only['param_max_features']=='auto']['param_max_depth'],ls_only[ls_only['param_max_features']=='auto']['mean_train_score'],'g--',label='auto')\nline_sqrt_train, = plt.plot(ls_only[ls_only['param_max_features']=='sqrt']['param_max_depth'],ls_only[ls_only['param_max_features']=='sqrt']['mean_train_score'],'r--',label='sqrt')\nline_log2_train, = plt.plot(ls_only[ls_only['param_max_features']=='log2']['param_max_depth'],ls_only[ls_only['param_max_features']=='log2']['mean_train_score'],'b--',label='log2')\nline_auto_test, = plt.plot(ls_only[ls_only['param_max_features']=='auto']['param_max_depth'],ls_only[ls_only['param_max_features']=='auto']['mean_test_score'],'g',label='auto')\nline_sqrt_test, = plt.plot(ls_only[ls_only['param_max_features']=='sqrt']['param_max_depth'],ls_only[ls_only['param_max_features']=='sqrt']['mean_test_score'],'r',label='sqrt')\nline_log2_test, = plt.plot(ls_only[ls_only['param_max_features']=='log2']['param_max_depth'],ls_only[ls_only['param_max_features']=='log2']['mean_test_score'],'b',label='log2')\nplt.legend(handles=[line_auto_train,line_auto_test,line_sqrt_train,line_sqrt_test,line_log2_train,line_log2_test])\nplt.ylabel('Square-Root MSE')\n#plt.title('Tuning the hiper paremeter Alpha')\nplt.show()",
      "execution_count": null,
      "outputs": [],
      "metadata": {}
    },
    {
      "cell_type": "code",
      "source": "gridSearch",
      "execution_count": null,
      "outputs": [],
      "metadata": {}
    },
    {
      "cell_type": "code",
      "source": "clf.best_params_ ",
      "execution_count": null,
      "outputs": [],
      "metadata": {}
    },
    {
      "cell_type": "code",
      "source": "#clf = linear_model.Lasso(alpha=20,max_iter=10000,normalize=True)\nclf = GradientBoostingRegressor(max_depth=2)\nclf.fit(x,Y)\ntest_predicted = clf.predict(x_test)",
      "execution_count": null,
      "outputs": [],
      "metadata": {}
    },
    {
      "cell_type": "code",
      "source": "test['SalePrice'] = test_predicted\nresult = test[['Id','SalePrice']]",
      "execution_count": null,
      "outputs": [],
      "metadata": {}
    },
    {
      "cell_type": "code",
      "source": "result.to_csv('submission.csv',index=False)",
      "execution_count": null,
      "outputs": [],
      "metadata": {}
    }
  ]
}