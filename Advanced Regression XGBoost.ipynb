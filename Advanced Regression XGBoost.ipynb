{
  "metadata": {
    "kernelspec": {
      "name": "python"
    },
    "language_info": {
      "name": "python",
      "version": "3.5.1"
    }
  },
  "nbformat": 4,
  "nbformat_minor": 0,
  "cells": [
    {
      "cell_type": "code",
      "source": "# This Python 3 environment comes with many helpful analytics libraries installed\n# It is defined by the kaggle/python docker image: https://github.com/kaggle/docker-python\n# For example, here's several helpful packages to load in \n\nimport numpy as np # linear algebra\nimport pandas as pd # data processing, CSV file I/O (e.g. pd.read_csv)\nfrom sklearn import preprocessing\nfrom sklearn import linear_model\nfrom sklearn.model_selection import train_test_split\nfrom sklearn.metrics import mean_squared_error\nfrom sklearn.ensemble import RandomForestClassifier\nfrom sklearn.ensemble import GradientBoostingRegressor\nimport matplotlib.pyplot as plt\nimport seaborn as sns\nfrom sklearn.model_selection import GridSearchCV\nimport xgboost as xgb\n\n# Input data files are available in the \"../input/\" directory.\n# For example, running this (by clicking run or pressing Shift+Enter) will list the files in the input directory\n\n#from subprocess import check_output\n#print(check_output([\"ls\", \"../input\"]).decode(\"utf8\"))\n\n# Any results you write to the current directory are saved as output.",
      "execution_count": null,
      "outputs": [],
      "metadata": {}
    },
    {
      "cell_type": "code",
      "source": "def miss_values(df):\n    for column in df:\n        # Test whether column has null value\n        if len(df[column].apply(pd.isnull).value_counts()) > 1:\n            print(column+\" has missing value\")\n            #if column is numeric, fill null with mean\n            if df[column].dtype in ('int64','float64'):\n                df[column] = df[column].fillna(df[column].mean())\n            else:\n                df[column] = df[column].fillna(\"unknown\")",
      "execution_count": null,
      "outputs": [],
      "metadata": {}
    },
    {
      "cell_type": "code",
      "source": "def factor_encoding(df):\n    for column in df:\n        if df[column].dtype == 'object':\n            df = df.merge(pd.get_dummies(data=df[column],prefix=column),right_index=True,left_index=True)\n            del df[column]\n    return df",
      "execution_count": null,
      "outputs": [],
      "metadata": {}
    },
    {
      "cell_type": "code",
      "source": "train = pd.read_csv(\"../input/train.csv\")\ntest = pd.read_csv(\"../input/test.csv\")\ntrain['source'] = 1.0\ntest['source'] = 0.0\nalls = pd.concat([train,test],ignore_index=True)\nmiss_values(alls)\nalls = factor_encoding(alls)",
      "execution_count": null,
      "outputs": [],
      "metadata": {}
    },
    {
      "cell_type": "code",
      "source": "train = alls[alls['source'] == 1.0]\ntrain.drop(['source'],inplace=True,axis=1)\ntest = alls[alls['source'] == 0.0]\ntest.drop(['source'],inplace=True,axis=1)\ntest.drop(['SalePrice'],inplace=True,axis=1)",
      "execution_count": null,
      "outputs": [],
      "metadata": {}
    },
    {
      "cell_type": "code",
      "source": "x = train.drop(['SalePrice'],axis=1)\nY = train['SalePrice']",
      "execution_count": null,
      "outputs": [],
      "metadata": {}
    },
    {
      "cell_type": "code",
      "source": "x_train, x_vali, Y_train, Y_vali = train_test_split(x, Y, test_size=0.25, random_state=42)\n#Tranform dataframe into array\nx_train_array = pd.DataFrame.as_matrix(x_train)\nx_vali_array = pd.DataFrame.as_matrix(x_vali)\nY_train_array = Y_train.values\nY_vali_array = Y_vali.values\ndtrain = xgb.DMatrix(x_train_array, label=Y_train_array)\ndvali = xgb.DMatrix(x_vali_array, label=Y_vali_array)\nx_array = pd.DataFrame.as_matrix(x)\nY_array = Y.values\ndt = xgb.DMatrix(x_array, label=Y_array)\ndtest_array = xgb.DMatrix(pd.DataFrame.as_matrix(test))",
      "execution_count": null,
      "outputs": [],
      "metadata": {}
    },
    {
      "cell_type": "code",
      "source": null,
      "execution_count": null,
      "outputs": [],
      "metadata": {}
    },
    {
      "cell_type": "code",
      "source": "#Setting XGBoosting Parameters\nparam = {'max_depth':3, 'eta':1, 'silent':0, 'eval_metric':'rmse'}\nevallist  = [(dvali,'eval'), (dtrain,'train')]\nnum_round = 30\nbst = xgb.train(param,dt,num_round,evallist)",
      "execution_count": null,
      "outputs": [],
      "metadata": {}
    },
    {
      "cell_type": "code",
      "source": "bst.save_model('first_iter.model')\nypred = bst.predict(dtest_array)",
      "execution_count": null,
      "outputs": [],
      "metadata": {}
    },
    {
      "cell_type": "code",
      "source": "xgb.plot_tree(bst, num_trees=2)",
      "execution_count": null,
      "outputs": [],
      "metadata": {}
    },
    {
      "cell_type": "code",
      "source": "test['SalePrice'] = list(ypred)",
      "execution_count": null,
      "outputs": [],
      "metadata": {}
    },
    {
      "cell_type": "code",
      "source": "submission = test[['Id','SalePrice']]",
      "execution_count": null,
      "outputs": [],
      "metadata": {}
    },
    {
      "cell_type": "code",
      "source": "submission.to_csv('submission.csv',index=False)",
      "execution_count": null,
      "outputs": [],
      "metadata": {}
    }
  ]
}